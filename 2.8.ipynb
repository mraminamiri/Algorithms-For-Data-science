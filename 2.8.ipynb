{
 "cells": [
  {
   "cell_type": "code",
   "execution_count": 1,
   "id": "f20b2550",
   "metadata": {},
   "outputs": [],
   "source": [
    "path = '/Users/amin/Desktop/data science/exercise 2.8/cm 2.txt'\n",
    "nameDict = {}\n",
    "with open(path) as f:\n",
    "       for line in f:\n",
    "            data = line.split(\"|\")\n",
    "            if data[1] != '':\n",
    "               nameDict[data[0]] = data[1]\n"
   ]
  },
  {
   "cell_type": "code",
   "execution_count": 2,
   "id": "a0b19a16",
   "metadata": {},
   "outputs": [],
   "source": [
    "import operator"
   ]
  },
  {
   "cell_type": "code",
   "execution_count": 3,
   "id": "8aacba91",
   "metadata": {},
   "outputs": [
    {
     "name": "stdout",
     "output_type": "stream",
     "text": [
      "Number of committees =  18285\n"
     ]
    }
   ],
   "source": [
    "print('Number of committees = ',len(nameDict))\n",
    "committees = set(nameDict.keys())\n"
   ]
  },
  {
   "cell_type": "code",
   "execution_count": 4,
   "id": "6b09e384",
   "metadata": {},
   "outputs": [],
   "source": [
    "\n",
    "path = '/Users/amin/Desktop/data science/exercise 2.8/itoth 4.txt'\n",
    "contributorDict = {}\n",
    "with open(path) as f:\n",
    "    for line in f:\n",
    "            data = line.split(\"|\")\n",
    "            contributor = data[0]\n",
    "            if contributorDict.get(contributor) is None:\n",
    "                  contributorDict[contributor] = {data[7]}\n",
    "            else:\n",
    "                  contributorDict[contributor].add(data[7])\n",
    "                       "
   ]
  },
  {
   "cell_type": "code",
   "execution_count": 5,
   "id": "a9e5e4b1",
   "metadata": {},
   "outputs": [
    {
     "name": "stdout",
     "output_type": "stream",
     "text": [
      "N pairs =  37892865.0\n"
     ]
    }
   ],
   "source": [
    "\n",
    "n = len(contributorDict)\n",
    "print('N pairs = ',n*(n-1)/2)"
   ]
  },
  {
   "cell_type": "code",
   "execution_count": 6,
   "id": "0ffe9422",
   "metadata": {},
   "outputs": [
    {
     "name": "stdout",
     "output_type": "stream",
     "text": [
      "N pairs =  8778.0\n"
     ]
    }
   ],
   "source": [
    "for key in list(contributorDict.keys()):\n",
    "       if len(contributorDict[key]) <= 500:\n",
    "        contributorDict.pop(key, None)\n",
    "n = len(contributorDict)\n",
    "print('N pairs = ',n*(n-1)/2)\n"
   ]
  },
  {
   "cell_type": "code",
   "execution_count": 7,
   "id": "d7ecb675",
   "metadata": {},
   "outputs": [
    {
     "name": "stdout",
     "output_type": "stream",
     "text": [
      "KANSAS DEMOCRATIC PARTY 591\n",
      "KEVIN MCCARTHY FOR CONGRESS 2480\n",
      "MAJORITY COMMITTEE PAC--MC PAC 1372\n",
      "XOCHITL FOR NEW MEXICO 675\n",
      "NRSC 5048\n",
      "AMERIPAC: THE FUND FOR A GREATER AMERICA 526\n",
      "NRCC 3274\n",
      "KINZINGER FOR CONGRESS 564\n",
      "NANCY PELOSI FOR CONGRESS 691\n",
      "MINNESOTA DEMOCRATIC-FARMER-LABOR PARTY 1940\n",
      "REPUBLICAN PARTY OF TEXAS 1149\n",
      "MCSALLY FOR SENATE INC 987\n",
      "CORY GARDNER FOR SENATE 1961\n",
      "THOM TILLIS COMMITTEE 1420\n",
      "GEORGIA REPUBLICAN PARTY INC. 1130\n",
      "SCALISE FOR CONGRESS 64281\n",
      "TEXAS DEMOCRATIC PARTY 2423\n",
      "TEXANS FOR SENATOR JOHN CORNYN INC. 7478\n",
      "DEMOCRATIC EXECUTIVE COMMITTEE OF FLORIDA 1810\n",
      "MCHENRY FOR CONGRESS 521\n",
      "PETERS FOR MICHIGAN 2027\n",
      "NORTH CAROLINA REPUBLICAN PARTY 571\n",
      "DEMOCRATIC PARTY OF VIRGINIA 2221\n",
      "NEW HAMPSHIRE DEMOCRATIC PARTY 1510\n",
      "FRIENDS OF MARK WARNER 1542\n",
      "MICHIGAN DEMOCRATIC STATE CENTRAL COMMITTEE 2074\n",
      "STEVE DAINES FOR MONTANA 851\n",
      "WARNOCK FOR GEORGIA 10797\n",
      "REPUBLICAN PARTY OF IOWA 583\n",
      "ARIZONA REPUBLICAN PARTY 817\n",
      "NEVADA STATE DEMOCRATIC PARTY 1762\n",
      "DEMOCRATIC PARTY OF WISCONSIN 1743\n",
      "MAINE DEMOCRATIC PARTY 506\n",
      "OHIO DEMOCRATIC PARTY 1708\n",
      "PERDUE FOR SENATE 12465\n",
      "GEORGIANS FOR KELLY LOEFFLER 8266\n",
      "MONTANA DEMOCRATIC PARTY 576\n",
      "NEBRASKA DEMOCRATIC PARTY 1557\n",
      "REPUBLICAN NATIONAL COMMITTEE 435402\n",
      "PAC TO THE FUTURE 520\n",
      "DONALD J. TRUMP FOR PRESIDENT, INC. 267408\n",
      "DEMOCRATIC STATE CENTRAL COMMITTEE OF MARYLAND 524\n",
      "COTTON FOR SENATE, INC. 1074\n",
      "NEW JERSEY DEMOCRATIC STATE COMMITTEE 680\n",
      "DSCC 3334\n",
      "MASSACHUSETTS DEMOCRATIC STATE COMMITTEE 518\n",
      "CALIFORNIA REPUBLICAN PARTY FEDERAL ACCT. 553\n",
      "GEORGIA FEDERAL ELECTIONS COMMITTEE 2752\n",
      "JOHN JAMES FOR SENATE, INC. 961\n",
      "NORTH CAROLINA DEMOCRATIC PARTY - FEDERAL 2056\n",
      "PENNSYLVANIA DEMOCRATIC PARTY 1673\n",
      "COLORADO DEMOCRATIC PARTY 1803\n",
      "MCCONNELL SENATE COMMITTEE 1954\n",
      "ARIZONA DEMOCRATIC PARTY 2058\n",
      "COLLINS FOR SENATOR 1126\n",
      "FRIENDS OF DICK DURBIN COMMITTEE 1746\n",
      "FRIENDS OF TODD YOUNG, INC. 569\n",
      "CHC BOLD PAC 1576\n",
      "DOUG JONES FOR SENATE COMMITTEE 1627\n",
      "ELISSA SLOTKIN FOR CONGRESS 795\n",
      "MCCAUL FOR CONGRESS, INC 725\n",
      "LOFGREN FOR CONGRESS 572\n",
      "SCHIFF FOR CONGRESS 1006\n",
      "CORY BOOKER FOR SENATE 1908\n",
      "JONI FOR IOWA 2294\n",
      "THE MARKEY COMMITTEE 728\n",
      "FINKENAUER FOR CONGRESS 545\n",
      "THE EYE OF THE TIGER POLITICAL ACTION COMMITTEE 1327\n",
      "NEW YORK STATE DEMOCRATIC COMMITTEE 823\n",
      "KLOBUCHAR FOR MINNESOTA 680\n",
      "MJ FOR TEXAS 1342\n",
      "DAN CRENSHAW FOR CONGRESS 1367\n",
      "CARL DEMAIO FOR CONGRESS 2849\n",
      "MICHIGAN REPUBLICAN PARTY 1676\n",
      "ZELDIN FOR CONGRESS 2493\n",
      "DNC SERVICES CORP / DEMOCRATIC NATIONAL COMMITTEE 39235\n",
      "BRADY PAC 1545\n",
      "DCCC 1562\n",
      "KAMALA HARRIS FOR THE PEOPLE 3512\n",
      "LAUREN UNDERWOOD FOR CONGRESS 598\n",
      "MARK KELLY FOR SENATE 3718\n",
      "FRIENDS OF LUCY MCBATH 663\n",
      "ELAINE FOR CONGRESS 523\n",
      "BYRNE FOR SENATE, INC. 568\n",
      "LETS GET TO WORK PAC 920\n",
      "FRONTLINE USA 622\n",
      "SUSIE LEE FOR CONGRESS 640\n",
      "AMERICAN ASSOCIATION FOR JUSTICE POLITICAL ACTION COMMITTEE (AAJ PAC) 553\n",
      "REPUBLICAN PARTY OF FLORIDA 505\n",
      "CALIFORNIA DEMOCRATIC PARTY 688\n",
      "MAX ROSE FOR CONGRESS 788\n",
      "CORY 2020 2188\n",
      "CAL FOR NC 3305\n",
      "INDIANA REPUBLICAN STATE COMMITTEE, INC. 887\n",
      "THERESA GREENFIELD FOR IOWA 3240\n",
      "SPANBERGER FOR CONGRESS 660\n",
      "REPUBLICAN PARTY OF KENTUCKY 797\n",
      "JAIME HARRISON FOR US SENATE 2347\n",
      "TEAM GRAHAM, INC. 805\n",
      "HICKENLOOPER FOR COLORADO 3314\n",
      "NEW DEMOCRAT COALITION ACTION FUND 599\n",
      "BETH VAN DUYNE FOR CONGRESS 2662\n",
      "BELIEVE IN AMERICA PAC 1412\n",
      "ALABAMA REPUBLICAN PARTY 924\n",
      "ILHAN FOR CONGRESS 702\n",
      "MONTANANS FOR BULLOCK 3445\n",
      "SARA GIDEON FOR MAINE 2129\n",
      "ALASKA REPUBLICAN PARTY 730\n",
      "WARREN DEMOCRATS, INC. 634\n",
      "STATE DEMOCRATIC EXECUTIVE COMMITTEE OF ALABAMA 554\n",
      "END CITIZENS UNITED 3780\n",
      "BIDEN FOR PRESIDENT 478116\n",
      "KATIE PORTER FOR CONGRESS 578\n",
      "JON OSSOFF FOR SENATE 15258\n",
      "BOLLIER FOR KANSAS 1191\n",
      "HUNT FOR CONGRESS 505\n",
      "ALEXANDRIA OCASIO-CORTEZ FOR CONGRESS 2042\n",
      "SAVE AMERICA 29231\n",
      "AMERICAN BANKERS ASSOCIATION PAC (BANKPAC) 619\n",
      "AT&T INC./WARNERMEDIA LLC FEDERAL POLITICAL ACTION COMMITTEE (AT&T/WARNERMEDIA FEDERAL PAC) 667\n",
      "CULAC THE PAC OF CREDIT UNION NATIONAL ASSOCIATION 580\n",
      "NATIONAL ASSOCIATION OF REALTORS POLITICAL ACTION COMMITTEE 845\n",
      "EMPLOYEES OF NORTHROP GRUMMAN CORPORATION PAC 544\n",
      "SCALISE LEADERSHIP FUND 573\n",
      "NATIONAL BEER WHOLESALERS ASSOCIATION POLITICAL ACTION COMMITTEE 576\n",
      "WORKER POWER PAC 829\n",
      "NATIONAL AIR TRAFFIC CONTROLLERS ASSOCIATION PAC 690\n",
      "UNITED PARCEL SERVICE INC. PAC 624\n",
      "LOCKHEED MARTIN CORPORATION EMPLOYEES' POLITICAL ACTION COMMITTEE 588\n",
      "HONEYWELL INTERNATIONAL POLITICAL ACTION COMMITTEE 521\n",
      "INTERNATIONAL BROTHERHOOD OF ELECTRICAL WORKERS POLITICAL ACTION COMMITTEE 537\n",
      "COMCAST CORPORATION & NBCUNIVERSAL POLITICAL ACTION COMMITTEE - FEDERAL 706\n",
      "CHAMBER OF DIGITAL COMMERCE POLITICAL ACTION COMMITTEE 537\n"
     ]
    }
   ],
   "source": [
    "for key in contributorDict:\n",
    "       print(nameDict[key], len(contributorDict[key]))\n"
   ]
  },
  {
   "cell_type": "code",
   "execution_count": 8,
   "id": "29eddb6f",
   "metadata": {},
   "outputs": [],
   "source": [
    "contributors = list(contributorDict.keys())"
   ]
  },
  {
   "cell_type": "code",
   "execution_count": 9,
   "id": "e8e7ff87",
   "metadata": {},
   "outputs": [],
   "source": [
    "pairs = [(contributors[i], contributors[j]) for i in range(n-1)\n",
    "            for j in range(i+1, n, 1)]"
   ]
  },
  {
   "cell_type": "code",
   "execution_count": 10,
   "id": "95da1b3c",
   "metadata": {},
   "outputs": [],
   "source": [
    "simDict = {}\n",
    "for commA, commB in pairs:\n",
    "        A = contributorDict[commA]  # Set of contributors to commA.\n",
    "        nameA = nameDict[commA]\n",
    "        B = contributorDict[commB]\n",
    "        nameB = nameDict[commB]\n",
    "        nIntersection = len(A.intersection(B))\n",
    "        jAB = nIntersection/len(A.union(B))\n",
    "        pAGivenB = nIntersection/len(B)\n",
    "        pBGivenA = nIntersection/len(A)\n",
    "        simDict[(nameA, nameB)] = (jAB, pAGivenB, pBGivenA)\n"
   ]
  },
  {
   "cell_type": "code",
   "execution_count": 11,
   "id": "53dd7daf",
   "metadata": {},
   "outputs": [],
   "source": [
    " jAB = nIntersection/float(len(A.union(B)))\n"
   ]
  },
  {
   "cell_type": "code",
   "execution_count": 12,
   "id": "6d5cc198",
   "metadata": {},
   "outputs": [],
   "source": [
    " sortedList = sorted(simDict.items(), key=operator.itemgetter(1),reverse=True)\n"
   ]
  },
  {
   "cell_type": "code",
   "execution_count": 13,
   "id": "43a97c95",
   "metadata": {},
   "outputs": [
    {
     "name": "stdout",
     "output_type": "stream",
     "text": [
      "0.71 0.88 0.786 DEMOCRATIC PARTY OF WISCONSIN|NEBRASKA DEMOCRATIC PARTY\n",
      "0.678 0.821 0.796 NEVADA STATE DEMOCRATIC PARTY|OHIO DEMOCRATIC PARTY\n",
      "0.655 0.844 0.746 NEVADA STATE DEMOCRATIC PARTY|NEBRASKA DEMOCRATIC PARTY\n",
      "0.634 0.814 0.742 OHIO DEMOCRATIC PARTY|NEBRASKA DEMOCRATIC PARTY\n",
      "0.631 0.778 0.77 NEVADA STATE DEMOCRATIC PARTY|DEMOCRATIC PARTY OF WISCONSIN\n",
      "0.631 0.679 0.898 NEBRASKA DEMOCRATIC PARTY|ARIZONA DEMOCRATIC PARTY\n",
      "0.626 0.809 0.735 MINNESOTA DEMOCRATIC-FARMER-LABOR PARTY|NEVADA STATE DEMOCRATIC PARTY\n",
      "0.602 0.759 0.744 DEMOCRATIC PARTY OF WISCONSIN|OHIO DEMOCRATIC PARTY\n",
      "0.601 0.66 0.871 NEBRASKA DEMOCRATIC PARTY|NORTH CAROLINA DEMOCRATIC PARTY - FEDERAL\n",
      "0.599 0.692 0.817 DEMOCRATIC PARTY OF WISCONSIN|ARIZONA DEMOCRATIC PARTY\n",
      "0.596 0.839 0.673 MINNESOTA DEMOCRATIC-FARMER-LABOR PARTY|NEBRASKA DEMOCRATIC PARTY\n",
      "0.587 0.756 0.724 EMPLOYEES OF NORTHROP GRUMMAN CORPORATION PAC|HONEYWELL INTERNATIONAL POLITICAL ACTION COMMITTEE\n",
      "0.582 0.786 0.692 MINNESOTA DEMOCRATIC-FARMER-LABOR PARTY|OHIO DEMOCRATIC PARTY\n",
      "0.581 0.679 0.801 DEMOCRATIC PARTY OF WISCONSIN|NORTH CAROLINA DEMOCRATIC PARTY - FEDERAL\n",
      "0.577 0.773 0.695 MINNESOTA DEMOCRATIC-FARMER-LABOR PARTY|DEMOCRATIC PARTY OF WISCONSIN\n",
      "0.564 0.67 0.782 NEVADA STATE DEMOCRATIC PARTY|ARIZONA DEMOCRATIC PARTY\n",
      "0.561 0.719 0.719 NORTH CAROLINA DEMOCRATIC PARTY - FEDERAL|ARIZONA DEMOCRATIC PARTY\n",
      "0.557 0.664 0.775 NEVADA STATE DEMOCRATIC PARTY|NORTH CAROLINA DEMOCRATIC PARTY - FEDERAL\n",
      "0.553 0.701 0.723 NEW HAMPSHIRE DEMOCRATIC PARTY|NEBRASKA DEMOCRATIC PARTY\n",
      "0.551 0.877 0.598 NATIONAL ASSOCIATION OF REALTORS POLITICAL ACTION COMMITTEE|NATIONAL BEER WHOLESALERS ASSOCIATION POLITICAL ACTION COMMITTEE\n",
      "0.539 0.653 0.756 NEBRASKA DEMOCRATIC PARTY|COLORADO DEMOCRATIC PARTY\n",
      "0.539 0.641 0.772 OHIO DEMOCRATIC PARTY|ARIZONA DEMOCRATIC PARTY\n",
      "0.539 0.719 0.683 NEVADA STATE DEMOCRATIC PARTY|PENNSYLVANIA DEMOCRATIC PARTY\n",
      "0.538 0.65 0.758 NEW HAMPSHIRE DEMOCRATIC PARTY|NEVADA STATE DEMOCRATIC PARTY\n",
      "0.536 0.726 0.672 CULAC THE PAC OF CREDIT UNION NATIONAL ASSOCIATION|CHAMBER OF DIGITAL COMMERCE POLITICAL ACTION COMMITTEE\n",
      "0.532 0.741 0.654 AT&T INC./WARNERMEDIA LLC FEDERAL POLITICAL ACTION COMMITTEE (AT&T/WARNERMEDIA FEDERAL PAC)|LOCKHEED MARTIN CORPORATION EMPLOYEES' POLITICAL ACTION COMMITTEE\n",
      "0.529 0.634 0.763 OHIO DEMOCRATIC PARTY|NORTH CAROLINA DEMOCRATIC PARTY - FEDERAL\n",
      "0.527 0.67 0.711 MINNESOTA DEMOCRATIC-FARMER-LABOR PARTY|ARIZONA DEMOCRATIC PARTY\n",
      "0.526 0.773 0.622 AT&T INC./WARNERMEDIA LLC FEDERAL POLITICAL ACTION COMMITTEE (AT&T/WARNERMEDIA FEDERAL PAC)|CHAMBER OF DIGITAL COMMERCE POLITICAL ACTION COMMITTEE\n",
      "0.522 0.861 0.571 PERDUE FOR SENATE|GEORGIANS FOR KELLY LOEFFLER\n",
      "0.52 0.665 0.705 MINNESOTA DEMOCRATIC-FARMER-LABOR PARTY|NORTH CAROLINA DEMOCRATIC PARTY - FEDERAL\n",
      "0.519 0.664 0.703 AT&T INC./WARNERMEDIA LLC FEDERAL POLITICAL ACTION COMMITTEE (AT&T/WARNERMEDIA FEDERAL PAC)|COMCAST CORPORATION & NBCUNIVERSAL POLITICAL ACTION COMMITTEE - FEDERAL\n",
      "0.519 0.743 0.632 MICHIGAN DEMOCRATIC STATE CENTRAL COMMITTEE|NEVADA STATE DEMOCRATIC PARTY\n",
      "0.517 0.642 0.726 NEW HAMPSHIRE DEMOCRATIC PARTY|OHIO DEMOCRATIC PARTY\n",
      "0.515 0.672 0.688 NEVADA STATE DEMOCRATIC PARTY|COLORADO DEMOCRATIC PARTY\n",
      "0.509 0.612 0.751 DEMOCRATIC EXECUTIVE COMMITTEE OF FLORIDA|DEMOCRATIC PARTY OF VIRGINIA\n",
      "0.508 0.706 0.645 LOCKHEED MARTIN CORPORATION EMPLOYEES' POLITICAL ACTION COMMITTEE|CHAMBER OF DIGITAL COMMERCE POLITICAL ACTION COMMITTEE\n",
      "0.506 0.768 0.597 MINNESOTA DEMOCRATIC-FARMER-LABOR PARTY|NEW HAMPSHIRE DEMOCRATIC PARTY\n",
      "0.505 0.725 0.625 MINNESOTA DEMOCRATIC-FARMER-LABOR PARTY|PENNSYLVANIA DEMOCRATIC PARTY\n",
      "0.504 0.679 0.661 DEMOCRATIC EXECUTIVE COMMITTEE OF FLORIDA|NEVADA STATE DEMOCRATIC PARTY\n",
      "0.503 0.677 0.663 OHIO DEMOCRATIC PARTY|PENNSYLVANIA DEMOCRATIC PARTY\n",
      "0.503 0.733 0.616 MICHIGAN DEMOCRATIC STATE CENTRAL COMMITTEE|DEMOCRATIC PARTY OF WISCONSIN\n",
      "0.503 0.795 0.578 TEXAS DEMOCRATIC PARTY|NEVADA STATE DEMOCRATIC PARTY\n",
      "0.502 0.809 0.57 TEXAS DEMOCRATIC PARTY|OHIO DEMOCRATIC PARTY\n",
      "0.502 0.647 0.691 MINNESOTA DEMOCRATIC-FARMER-LABOR PARTY|MICHIGAN DEMOCRATIC STATE CENTRAL COMMITTEE\n"
     ]
    }
   ],
   "source": [
    " for committees, simMeasures in sortedList:\n",
    "        nameA, nameB = committees\n",
    "        jAB, pAB, pBA = simMeasures\n",
    "        if jAB > .5:\n",
    "            print(round(jAB, 3), round(pAB, 3),\n",
    "                round(pBA, 3), nameA + '|' + nameB)\n"
   ]
  },
  {
   "cell_type": "code",
   "execution_count": null,
   "id": "1a4249d5",
   "metadata": {},
   "outputs": [],
   "source": []
  }
 ],
 "metadata": {
  "kernelspec": {
   "display_name": "Python 3 (ipykernel)",
   "language": "python",
   "name": "python3"
  },
  "language_info": {
   "codemirror_mode": {
    "name": "ipython",
    "version": 3
   },
   "file_extension": ".py",
   "mimetype": "text/x-python",
   "name": "python",
   "nbconvert_exporter": "python",
   "pygments_lexer": "ipython3",
   "version": "3.9.13"
  }
 },
 "nbformat": 4,
 "nbformat_minor": 5
}
