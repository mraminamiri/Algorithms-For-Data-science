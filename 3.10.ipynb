{
 "cells": [
  {
   "cell_type": "code",
   "execution_count": 3,
   "id": "60231a33",
   "metadata": {},
   "outputs": [],
   "source": [
    "fieldDict = dict.fromkeys([11, 12, 13, 14])\n",
    "\n",
    "fieldDict[11] = {'genhlth': (73) ,'bmi': (1533, 1536), 'weight': (1475, 1484), 'income': (124, 125), 'education': (122)}\n",
    "fieldDict[12] = {'genhlth': (73) ,'bmi': (1644, 1647), 'weight': (1449, 1458), 'income': (116, 117), 'education': (114)}\n",
    "fieldDict[13] = {'genhlth': (80) ,'bmi': (2192, 2195), 'weight': (1953, 1962), 'income': (152, 153), 'education': (150)}\n",
    "fieldDict[14] = {'genhlth': (80) ,'bmi': (2247, 2250), 'weight': (2007, 2016), 'income': (152, 153), 'education': (150)}"
   ]
  },
  {
   "cell_type": "code",
   "execution_count": 5,
   "id": "a729b91a",
   "metadata": {},
   "outputs": [],
   "source": [
    "import sys\n",
    "import os\n",
    "import importlib\n",
    "import numpy as np"
   ]
  },
  {
   "cell_type": "code",
   "execution_count": 8,
   "id": "0f17b68e",
   "metadata": {},
   "outputs": [],
   "source": [
    "def getHlth(genHlthString):\n",
    "    if genHlthString == ' ':\n",
    "        genhlth = -1\n",
    "    elif int(genHlthString) > 6:\n",
    "        genhlth = -1\n",
    "    else:\n",
    "        genhlth = int(genHlthString)\n",
    "    return genhlth"
   ]
  },
  {
   "cell_type": "code",
   "execution_count": 10,
   "id": "4a2ce042",
   "metadata": {},
   "outputs": [],
   "source": [
    "def getIncome(incomeString):\n",
    "    if incomeString != '  ':\n",
    "        income = int(incomeString)\n",
    "    else:\n",
    "        income = 9\n",
    "    return income"
   ]
  },
  {
   "cell_type": "code",
   "execution_count": 11,
   "id": "0ab6e469",
   "metadata": {},
   "outputs": [],
   "source": [
    "def getEducation(educationString):\n",
    "        if educationString != ' ':\n",
    "            education = int(educationString)\n",
    "        else:\n",
    "            education = 9\n",
    "        return education"
   ]
  },
  {
   "cell_type": "code",
   "execution_count": 12,
   "id": "fabd5fe6",
   "metadata": {},
   "outputs": [],
   "source": [
    "def convertBMI(bmiString, shortYear):\n",
    "    bmi = 0\n",
    "    if shortYear == 0 and bmiString != '999':\n",
    "        bmi = .1 * float(bmiString)\n",
    "    elif shortYear == 1 and bmiString != '999999':\n",
    "        bmi = .0001 * float(bmiString)\n",
    "    elif 2 <= shortYear <= 10 and bmiString != '9999':\n",
    "        bmi = .01 * float(bmiString)\n",
    "    elif shortYear > 10 and bmiString != '    ':\n",
    "        bmi = .01 * float(bmiString)\n",
    "    return bmi"
   ]
  },
  {
   "cell_type": "code",
   "execution_count": 14,
   "id": "35add89d",
   "metadata": {},
   "outputs": [
    {
     "name": "stdout",
     "output_type": "stream",
     "text": [
      "3.083\t-0.144\t-0.152\t0.037 0.199\n",
      "Income coefficient = [[-0.14429359]] Education coefficient = [[-0.15159681]] BMI coefficient = [[0.03675142]] rAdj = 0.199\n"
     ]
    }
   ],
   "source": [
    "# laod data\n",
    "\n",
    "path = r'/Users/amin/Desktop/data science/exercise 3.6/data'\n",
    "fileList = os.listdir(path)\n",
    "q = 4\n",
    "A = np.zeros((q, q))\n",
    "z = np.matrix(np.zeros((q, 1)))\n",
    "n = 0\n",
    "sumSqrs = 0\n",
    "for fileName in fileList:\n",
    "    try:\n",
    "        shortYear = int(fileName[6:8])\n",
    "        if shortYear < 11:\n",
    "            1/0\n",
    "        year = 2000 + shortYear\n",
    "        file = path + '/' + fileName\n",
    "        fields = fieldDict[shortYear]\n",
    "        sInc, eInc = fields['income']\n",
    "        sBMI, eBMI = fields['bmi']\n",
    "        fEduc = fields['education']\n",
    "        fGH = fields['genhlth']\n",
    "        with open(file, encoding='latin-1') as f:\n",
    "            for record in f:\n",
    "                income = getIncome(record[sInc-1:eInc])\n",
    "                education = getEducation(record[fEduc-1])\n",
    "                bmi = convertBMI(record[sBMI-1:eBMI], shortYear)\n",
    "                y = getHlth(record[fGH-1])\n",
    "                try:\n",
    "                    if education < 9 and income < 9 and 0 < bmi < 99 and y != -1:\n",
    "                        x = np.matrix([1, income, education, bmi]).T\n",
    "                        A += x * x.T\n",
    "                        z += x * y\n",
    "                        sumSqrs += y**2\n",
    "                        n += 1\n",
    "                    else:\n",
    "                        1/0\n",
    "                except(ZeroDivisionError):\n",
    "                    pass\n",
    "        \n",
    "    except(ValueError, ZeroDivisionError):\n",
    "        pass\n",
    "\n",
    "b = np.linalg.solve(A, z)\n",
    "ybar = z[0] / n\n",
    "varEst = sumSqrs/n - ybar**2\n",
    "rAdj_1 = (z.T.dot(b)/n - ybar**2) / varEst\n",
    "\n",
    "bList = [str(round(float(bi),3)) for bi in b]\n",
    "print('\\t'.join(bList),str(round(float(rAdj_1),3)))\n",
    "print('Income coefficient =', b[1], 'Education coefficient =', b[2], 'BMI coefficient =', b[3], 'rAdj =', str(round(float(rAdj_1),3)))"
   ]
  },
  {
   "cell_type": "code",
   "execution_count": null,
   "id": "d62a8ee5",
   "metadata": {},
   "outputs": [],
   "source": [
    "\n",
    "path = r'/Users/amin/Desktop/data science/exercise 3.6/data'\n",
    "fileList = os.listdir(path)\n",
    "q = 3\n",
    "A = np.zeros((q, q))\n",
    "z = np.matrix(np.zeros((q, 1)))\n",
    "sumSqrs = 0\n",
    "n = 0\n",
    "for fileName in fileList:\n",
    "    try:\n",
    "        shortYear = int(fileName[6:8])\n",
    "        if shortYear < 11:\n",
    "            1/0\n",
    "        year = 2000 + shortYear\n",
    "        file = path + '/' + fileName\n",
    "        fields = fieldDict[shortYear]\n",
    "        sInc, eInc = fields['income']\n",
    "        sBMI, eBMI = fields['bmi']\n",
    "        fGH = fields['genhlth']\n",
    "        with open(file, encoding='latin-1') as f:\n",
    "            for record in f:\n",
    "                income = getIncome(record[sInc-1:eInc])\n",
    "                bmi = convertBMI(record[sBMI-1:eBMI], shortYear)\n",
    "                y = getHlth(record[fGH-1])\n",
    "                try:\n",
    "                    if income < 9 and 0 < bmi < 99 and y != -1:\n",
    "                        x = np.matrix([1, income, bmi]).T\n",
    "                        A += x * x.T\n",
    "                        z += x * y\n",
    "                        sumSqrs += y**2\n",
    "                        n += 1\n",
    "                    else:\n",
    "                        1/0\n",
    "                except(ZeroDivisionError):\n",
    "                    pass\n",
    "        \n",
    "    except(ValueError, ZeroDivisionError):\n",
    "        pass\n",
    "\n",
    "b = np.linalg.solve(A, z)\n",
    "ybar = z[0] / n\n",
    "varEst = sumSqrs/n - ybar**2\n",
    "rAdj_2 = (z.T.dot(b)/n - ybar**2) / varEst\n",
    "\n",
    "bList = [str(round(float(bi),3)) for bi in b]\n",
    "print('\\t'.join(bList),str(round(float(rAdj_2),3)))\n",
    "print('Income coefficient =', b[1], 'BMI coefficient =', b[2], 'rAdj =', str(round(float(rAdj_2),3)))"
   ]
  },
  {
   "cell_type": "code",
   "execution_count": null,
   "id": "b48cddf5",
   "metadata": {},
   "outputs": [],
   "source": []
  }
 ],
 "metadata": {
  "kernelspec": {
   "display_name": "Python 3 (ipykernel)",
   "language": "python",
   "name": "python3"
  },
  "language_info": {
   "codemirror_mode": {
    "name": "ipython",
    "version": 3
   },
   "file_extension": ".py",
   "mimetype": "text/x-python",
   "name": "python",
   "nbconvert_exporter": "python",
   "pygments_lexer": "ipython3",
   "version": "3.9.13"
  }
 },
 "nbformat": 4,
 "nbformat_minor": 5
}
