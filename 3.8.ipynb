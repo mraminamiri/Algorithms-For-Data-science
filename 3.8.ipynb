{
 "cells": [
  {
   "cell_type": "code",
   "execution_count": 1,
   "id": "8257b4f5",
   "metadata": {},
   "outputs": [],
   "source": [
    "\n",
    "import sys\n",
    "import os\n",
    "import importlib\n",
    "import numpy as np"
   ]
  },
  {
   "cell_type": "code",
   "execution_count": 2,
   "id": "e1483052",
   "metadata": {},
   "outputs": [],
   "source": [
    "fieldDict = dict.fromkeys([11, 12, 13, 14])\n",
    "\n",
    "fieldDict[11] = {'bmi': (1533, 1536), 'weight': (1475, 1484),'income':(124, 125),'education':122}\n",
    "fieldDict[12] = {'bmi': (1644, 1647), 'weight': (1449, 1458),'income':(116, 117),'education':114}\n",
    "fieldDict[13] = {'bmi': (2192, 2195), 'weight': (1953, 1962),'income':(152, 153),'education':150}\n",
    "fieldDict[14] = {'bmi': (2247, 2250), 'weight': (2007, 2016),'income':(152, 153),'education':150}\n"
   ]
  },
  {
   "cell_type": "code",
   "execution_count": 3,
   "id": "bfc072b8",
   "metadata": {},
   "outputs": [
    {
     "name": "stdout",
     "output_type": "stream",
     "text": [
      "11 {'bmi': (1533, 1536), 'weight': (1475, 1484), 'income': (124, 125), 'education': 122}\n",
      "12 {'bmi': (1644, 1647), 'weight': (1449, 1458), 'income': (116, 117), 'education': 114}\n",
      "13 {'bmi': (2192, 2195), 'weight': (1953, 1962), 'income': (152, 153), 'education': 150}\n",
      "14 {'bmi': (2247, 2250), 'weight': (2007, 2016), 'income': (152, 153), 'education': 150}\n"
     ]
    }
   ],
   "source": [
    "for year in fieldDict:\n",
    "    print(year, fieldDict[year])\n",
    "\n",
    "\n"
   ]
  },
  {
   "cell_type": "code",
   "execution_count": null,
   "id": "c7d46075",
   "metadata": {},
   "outputs": [],
   "source": []
  },
  {
   "cell_type": "code",
   "execution_count": 4,
   "id": "10ce598d",
   "metadata": {},
   "outputs": [],
   "source": [
    "def getIncome(incomeString):\n",
    "    if incomeString != '  ':\n",
    "        income = int(incomeString)\n",
    "    else:\n",
    "        income = 9\n",
    "    return income\n",
    "\n"
   ]
  },
  {
   "cell_type": "code",
   "execution_count": 5,
   "id": "03b959e5",
   "metadata": {},
   "outputs": [],
   "source": [
    " def getEducation(educationString):\n",
    "        if educationString != ' ':\n",
    "            education = int(educationString)\n",
    "        else:\n",
    "            education = 9\n",
    "        return education\n"
   ]
  },
  {
   "cell_type": "code",
   "execution_count": 6,
   "id": "a8046e05",
   "metadata": {},
   "outputs": [],
   "source": [
    "def convertBMI(bmiString, shortYear):\n",
    "    bmi = 0\n",
    "    if shortYear == 0 and bmiString != '999':\n",
    "        bmi = .1 * float(bmiString)\n",
    "    elif shortYear == 1 and bmiString != '999999':\n",
    "        bmi = .0001 * float(bmiString)\n",
    "    elif 2 <= shortYear <= 10 and bmiString != '9999':\n",
    "        bmi = .01 * float(bmiString)\n",
    "    elif shortYear > 10 and bmiString != '    ':\n",
    "        bmi = .01 * float(bmiString)\n",
    "    return bmi"
   ]
  },
  {
   "cell_type": "code",
   "execution_count": 1,
   "id": "35d666d5",
   "metadata": {},
   "outputs": [
    {
     "ename": "NameError",
     "evalue": "name 'os' is not defined",
     "output_type": "error",
     "traceback": [
      "\u001b[0;31m---------------------------------------------------------------------------\u001b[0m",
      "\u001b[0;31mNameError\u001b[0m                                 Traceback (most recent call last)",
      "\u001b[0;32m/var/folders/3l/xh28kn0j7_7d5hh7fgz188940000gn/T/ipykernel_2997/1209957262.py\u001b[0m in \u001b[0;36m<module>\u001b[0;34m\u001b[0m\n\u001b[1;32m      1\u001b[0m \u001b[0mpath\u001b[0m \u001b[0;34m=\u001b[0m \u001b[0;34mr'/Users/amin/Desktop/data science/exercise 3.6/data'\u001b[0m\u001b[0;34m\u001b[0m\u001b[0;34m\u001b[0m\u001b[0m\n\u001b[0;32m----> 2\u001b[0;31m \u001b[0mfileList\u001b[0m \u001b[0;34m=\u001b[0m \u001b[0mos\u001b[0m\u001b[0;34m.\u001b[0m\u001b[0mlistdir\u001b[0m\u001b[0;34m(\u001b[0m\u001b[0mpath\u001b[0m\u001b[0;34m)\u001b[0m\u001b[0;34m\u001b[0m\u001b[0;34m\u001b[0m\u001b[0m\n\u001b[0m\u001b[1;32m      3\u001b[0m \u001b[0;32mfor\u001b[0m \u001b[0mfilename\u001b[0m \u001b[0;32min\u001b[0m \u001b[0mfileList\u001b[0m\u001b[0;34m:\u001b[0m\u001b[0;34m\u001b[0m\u001b[0;34m\u001b[0m\u001b[0m\n\u001b[1;32m      4\u001b[0m     \u001b[0;32mtry\u001b[0m\u001b[0;34m:\u001b[0m\u001b[0;34m\u001b[0m\u001b[0;34m\u001b[0m\u001b[0m\n\u001b[1;32m      5\u001b[0m         \u001b[0mshortYear\u001b[0m \u001b[0;34m=\u001b[0m \u001b[0mint\u001b[0m\u001b[0;34m(\u001b[0m\u001b[0mfilename\u001b[0m\u001b[0;34m[\u001b[0m\u001b[0;36m6\u001b[0m\u001b[0;34m:\u001b[0m\u001b[0;36m8\u001b[0m\u001b[0;34m]\u001b[0m\u001b[0;34m)\u001b[0m\u001b[0;34m\u001b[0m\u001b[0;34m\u001b[0m\u001b[0m\n",
      "\u001b[0;31mNameError\u001b[0m: name 'os' is not defined"
     ]
    }
   ],
   "source": [
    "path = r'/Users/amin/Desktop/data science/exercise 3.6/data'\n",
    "fileList = os.listdir(path)\n",
    "for filename in fileList:\n",
    "    try:\n",
    "        shortYear = int(filename[6:8])\n",
    "        if 14 <shortYear or  shortYear < 11:\n",
    "            1/0\n",
    "        year = 2000 + shortYear\n",
    "        file = path + filename\n",
    "        fields = fieldDict[2000+shortYear]\n",
    "        file = path + '/' + filename\n",
    "        q=4\n",
    "        n=0\n",
    "        A = np.zeros(shape=(q, q))\n",
    "        X=np.zeros(shape = (10000,3))\n",
    "        sInc, eInc = fields['income']\n",
    "        sBMI, eBMI = fields['bmi']\n",
    "        fEduc = fields['education']\n",
    "        with open(file, 'r', encoding='latin-1') as f:\n",
    "            for record in f:\n",
    "                incomeString = record[sInc-1:eInc]\n",
    "                income = getIncome(incomeString)\n",
    "\n",
    "                bmiString = record[sBMI-1:eBMI]\n",
    "                bmi = convertBMI(bmiString, year)\n",
    "                education = getEducation(record[fEduc-1])\n",
    "                \n",
    "                if education < 9 and income < 9 and 0 < bmi < 99:\n",
    "                    w = np.matrix([1,income,bmi,education]).T\n",
    "                    A += w*w.T\n",
    "                    n = int(A[0,0]) # Number of valid observations\n",
    "\n",
    "                if n % 10000 == 0:\n",
    "                    M = A[1:,1:]\n",
    "                    mean = np.matrix(A[1:,0]/n).T\n",
    "                    SigmaHat = M/n - mean*mean.T\n",
    "\n",
    "                    # Extract the diagonal from S and\n",
    "                    s = np.sqrt(np.diag(SigmaHat))\n",
    "                    # compute the square roots.\n",
    "                    # Create a diagonal matrix.\n",
    "                    D = np.diag(1/s)\n",
    "                if int(n) <= 10000:\n",
    "                    # print(n)\n",
    "                    col = w[1:]\n",
    "\n",
    "                    X[n-1,:] = col.reshape((3,))\n",
    "                    # print\n",
    "                    # return\n",
    "            np.savetxt(f'./X{shortYear}.txt',X,fmt='%5.2f')\n",
    "              \n",
    "    except(ValueError, ZeroDivisionError):\n",
    "        pass"
   ]
  },
  {
   "cell_type": "code",
   "execution_count": 8,
   "id": "be2a6096",
   "metadata": {},
   "outputs": [],
   "source": [
    "#"
   ]
  },
  {
   "cell_type": "code",
   "execution_count": 9,
   "id": "8ea316d1",
   "metadata": {},
   "outputs": [],
   "source": [
    "\n",
    "X=np.loadtxt('../X11.txt')\n"
   ]
  },
  {
   "cell_type": "code",
   "execution_count": 10,
   "id": "f11bf30d",
   "metadata": {},
   "outputs": [
    {
     "data": {
      "text/plain": [
       "array([ 5.23154599, 38.84495905,  5.23154599])"
      ]
     },
     "execution_count": 10,
     "metadata": {},
     "output_type": "execute_result"
    }
   ],
   "source": [
    "\n",
    "np.var(X,axis=0)"
   ]
  },
  {
   "cell_type": "code",
   "execution_count": 11,
   "id": "1c14218c",
   "metadata": {},
   "outputs": [
    {
     "data": {
      "text/plain": [
       "array([[ 1.        , -0.10276998,  1.        ],\n",
       "       [-0.10276998,  1.        , -0.10276998],\n",
       "       [ 1.        , -0.10276998,  1.        ]])"
      ]
     },
     "execution_count": 11,
     "metadata": {},
     "output_type": "execute_result"
    }
   ],
   "source": [
    "np.corrcoef(X,rowvar=False)"
   ]
  },
  {
   "cell_type": "code",
   "execution_count": 12,
   "id": "66338f8b",
   "metadata": {},
   "outputs": [
    {
     "name": "stdout",
     "output_type": "stream",
     "text": [
      "[[ 1.         -0.08533416  0.45790145]\n",
      " [-0.08533416  1.         -0.09695461]\n",
      " [ 0.45790145 -0.09695461  1.        ]]\n"
     ]
    }
   ],
   "source": [
    "print(R)"
   ]
  },
  {
   "cell_type": "code",
   "execution_count": null,
   "id": "c3cbbc92",
   "metadata": {},
   "outputs": [],
   "source": []
  }
 ],
 "metadata": {
  "kernelspec": {
   "display_name": "Python 3 (ipykernel)",
   "language": "python",
   "name": "python3"
  },
  "language_info": {
   "codemirror_mode": {
    "name": "ipython",
    "version": 3
   },
   "file_extension": ".py",
   "mimetype": "text/x-python",
   "name": "python",
   "nbconvert_exporter": "python",
   "pygments_lexer": "ipython3",
   "version": "3.9.13"
  }
 },
 "nbformat": 4,
 "nbformat_minor": 5
}
